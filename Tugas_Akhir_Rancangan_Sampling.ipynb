{
  "nbformat": 4,
  "nbformat_minor": 0,
  "metadata": {
    "colab": {
      "provenance": []
    },
    "kernelspec": {
      "name": "python3",
      "display_name": "Python 3"
    },
    "language_info": {
      "name": "python"
    }
  },
  "cells": [
    {
      "cell_type": "markdown",
      "source": [
        "Perintah untuk menentukan jumlah sample di strata mahasiswa menggunakan persamaan berikut ini:\n",
        "![image.png](data:image/png;base64,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)"
      ],
      "metadata": {
        "id": "YxzrdQvOmkEE"
      }
    },
    {
      "cell_type": "code",
      "source": [
        "from scipy.stats import norm\n",
        "import math\n",
        "\n",
        "def calculate_sample_size(confidence_level, population_proportion, marginal_error, population_size):\n",
        "    # Menghitung Z-score berdasarkan confidence level\n",
        "    alpha = 1 - confidence_level\n",
        "    z_score = norm.ppf(1 - alpha / 2)\n",
        "\n",
        "    # Menghitung numerator\n",
        "    numerator = (z_score**2) * (population_proportion * (1 - population_proportion)) / (marginal_error**2)\n",
        "\n",
        "    # Menghitung denumerator\n",
        "    denumerator = 1 + (z_score**2) * (population_proportion * (1 - population_proportion)) / (marginal_error**2 * population_size)\n",
        "\n",
        "    # Menghitung sample size yang sudah dibulatkan ke atas\n",
        "    sample_size = math.ceil(numerator / denumerator)\n",
        "\n",
        "    return sample_size"
      ],
      "metadata": {
        "id": "iLzaC4aVZIYJ"
      },
      "execution_count": 49,
      "outputs": []
    },
    {
      "cell_type": "code",
      "source": [
        "# Masukkan informasi untuk menghitung sample size pada strata mahasiswa\n",
        "confidence_level = 0.95\n",
        "population_proportion = 0.5\n",
        "marginal_error = 0.05\n",
        "population_size_mahasiswa = 9725\n",
        "\n",
        "#Hitung sample size\n",
        "result_mahasiswa = calculate_sample_size(confidence_level, population_proportion, marginal_error, population_size_mahasiswa)\n",
        "print(f\"Sample Size Strata Mahasiswa: {result_mahasiswa}\")"
      ],
      "metadata": {
        "colab": {
          "base_uri": "https://localhost:8080/"
        },
        "id": "ZPRSNu94ZJ0F",
        "outputId": "98656a2b-1a7f-4ee0-c29a-2bcb996fa65b"
      },
      "execution_count": 50,
      "outputs": [
        {
          "output_type": "stream",
          "name": "stdout",
          "text": [
            "Sample Size Strata Mahasiswa: 370\n"
          ]
        }
      ]
    },
    {
      "cell_type": "code",
      "source": [
        "#Hitung sample size pada strata dosen\n",
        "population_size_dosen = 458\n",
        "result_dosen = calculate_sample_size(confidence_level, population_proportion, marginal_error, population_size_dosen)\n",
        "print(f\"Sample Size Strata Dosen: {result_dosen}\")\n"
      ],
      "metadata": {
        "colab": {
          "base_uri": "https://localhost:8080/"
        },
        "id": "sr59yQNBZqw5",
        "outputId": "792e160e-2822-4457-e7e0-c9309dec744c"
      },
      "execution_count": 51,
      "outputs": [
        {
          "output_type": "stream",
          "name": "stdout",
          "text": [
            "Sample Size Strata Dosen: 209\n"
          ]
        }
      ]
    },
    {
      "cell_type": "markdown",
      "source": [
        "Menghitung Jumlah sample untuk strata mahasiswa dan dosen di pada masing - masing Program studi di setiap jurusan menggunakan persamaan berikut ini:\n",
        "\n",
        "![image.png](data:image/png;base64,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)"
      ],
      "metadata": {
        "id": "wzLkXVvPanPK"
      }
    },
    {
      "cell_type": "code",
      "source": [
        "def calculate_sample_mahasiswa(N_h):\n",
        "    N_Population = 9725  #Jumlah populasi pada strata mahasiswa\n",
        "    n = 370  #jumlah sample keseluruhan pada strata mahasiswa\n",
        "\n",
        "    result = N_h / N_Population * n\n",
        "    return result"
      ],
      "metadata": {
        "id": "W77HqlENZRzV"
      },
      "execution_count": 52,
      "outputs": []
    },
    {
      "cell_type": "code",
      "source": [
        "#Hitung sample size untuk strata mahasiswa di Setiap Prodi Pada Jurusan di Polsri\n",
        "print('Jurusan Teknik Mesin')\n",
        "print('-------------------------------')\n",
        "D3_Teknik_Mesin = 573  #Jumlah populasi strata mahasiswa Prodi Teknik mesin D3\n",
        "result = math.ceil(calculate_sample_mahasiswa(D3_Teknik_Mesin))\n",
        "print(f\"Sample Size Strata Mahasiswa Prodi D3 Teknik Mesin: {result}\")\n",
        "\n",
        "D4_Teknik_Mesin_produksi = 547  #Jumlah populasi strata mahasiswa Prodi Teknik mesin D3\n",
        "result = math.ceil(calculate_sample_mahasiswa(D4_Teknik_Mesin_produksi))\n",
        "print(f\"Sample Size Strata Mahasiswa Prodi D4 Teknik Mesin Produksi dan Perawatan: {result}\")\n"
      ],
      "metadata": {
        "colab": {
          "base_uri": "https://localhost:8080/"
        },
        "id": "09NJMucXdQsc",
        "outputId": "00b8c4b8-31b4-41e2-c16b-5f6eaf21f4c7"
      },
      "execution_count": 53,
      "outputs": [
        {
          "output_type": "stream",
          "name": "stdout",
          "text": [
            "Jurusan Teknik Mesin\n",
            "-------------------------------\n",
            "Sample Size Strata Mahasiswa Prodi D3 Teknik Mesin: 22\n",
            "Sample Size Strata Mahasiswa Prodi D4 Teknik Mesin Produksi dan Perawatan: 21\n"
          ]
        }
      ]
    },
    {
      "cell_type": "code",
      "source": [
        "print('Jurusan Teknik Sipil')\n",
        "print('-------------------------------')\n",
        "D4_Teknologi_Produksi_Tanaman_dan_perkebunan = 24  #Jumlah populasi strata mahasiswa Prodi D4_Teknologi_Produksi_Tanaman_dan_perkebunan\n",
        "result = math.ceil(calculate_sample_mahasiswa(D4_Teknologi_Produksi_Tanaman_dan_perkebunan))\n",
        "print(f\"Sample Size Strata Mahasiswa Prodi D4 Teknologi Produksi Tanaman dan perkebunan: {result}\")\n",
        "\n",
        "D4_Perancangan_Jalan_Jembatan = 496  #Jumlah populasi strata mahasiswa Prodi D4_Perancangan_Jalan_Jembatan\n",
        "result = math.ceil(calculate_sample_mahasiswa(D4_Perancangan_Jalan_Jembatan))\n",
        "print(f\"Sample Size Strata Mahasiswa Prodi D4 Perancangan Jalan Jembatan: {result}\")\n",
        "\n",
        "D3_Teknik_Sipil = 543  #Jumlah populasi strata mahasiswa Prodi D3_Teknik_Sipil\n",
        "result = math.ceil(calculate_sample_mahasiswa(D3_Teknik_Sipil))\n",
        "print(f\"Sample Size Strata Mahasiswa Prodi D3 Teknik Sipil: {result}\")\n"
      ],
      "metadata": {
        "colab": {
          "base_uri": "https://localhost:8080/"
        },
        "id": "tWrFBZNKf0W9",
        "outputId": "3bf6c724-ccf1-4178-e8d2-ec70267aabd0"
      },
      "execution_count": 54,
      "outputs": [
        {
          "output_type": "stream",
          "name": "stdout",
          "text": [
            "Jurusan Teknik Sipil\n",
            "-------------------------------\n",
            "Sample Size Strata Mahasiswa Prodi D4 Teknologi Produksi Tanaman dan perkebunan: 1\n",
            "Sample Size Strata Mahasiswa Prodi D4 Perancangan Jalan Jembatan: 19\n",
            "Sample Size Strata Mahasiswa Prodi D3 Teknik Sipil: 21\n"
          ]
        }
      ]
    },
    {
      "cell_type": "code",
      "source": [
        "print('Jurusan Teknik Kimia')\n",
        "print('-------------------------------')\n",
        "D3_Teknik_Kimia = 280  #Jumlah populasi strata mahasiswa Prodi D3_Teknik_Kimia\n",
        "result = math.ceil(calculate_sample_mahasiswa(D3_Teknik_Kimia))\n",
        "print(f\"Sample Size Strata Mahasiswa Prodi D3 Teknik Kimia: {result}\")\n",
        "\n",
        "D3_Teknologi_Pangan = 8  #Jumlah populasi strata mahasiswa Prodi D3_Teknologi_Pangan\n",
        "result = math.ceil(calculate_sample_mahasiswa(D3_Teknologi_Pangan))\n",
        "print(f\"Sample Size Strata Mahasiswa Prodi D3 Teknologi Pangan: {result}\")\n",
        "\n",
        "D4_Teknologi_Kimia_Industri = 385 #Jumlah populasi strata mahasiswa Prodi D4_Teknologi_Kimia_Industri\n",
        "result = math.ceil(calculate_sample_mahasiswa(D4_Teknologi_Kimia_Industri))\n",
        "print(f\"Sample Size Strata Mahasiswa Prodi D4 Teknologi Kimia Industri: {result}\")\n",
        "\n",
        "D4_Teknik_Energi = 429 #Jumlah populasi strata mahasiswa Prodi Teknik D4_Teknik_Energi\n",
        "result = math.ceil(calculate_sample_mahasiswa(D4_Teknik_Energi))\n",
        "print(f\"Sample Size Strata Mahasiswa Prodi D4 Teknik Energi: {result}\")"
      ],
      "metadata": {
        "colab": {
          "base_uri": "https://localhost:8080/"
        },
        "id": "kLFiKP-vgJzO",
        "outputId": "5a044637-88f6-491f-c309-68593aa25c7c"
      },
      "execution_count": 55,
      "outputs": [
        {
          "output_type": "stream",
          "name": "stdout",
          "text": [
            "Jurusan Teknik Kimia\n",
            "-------------------------------\n",
            "Sample Size Strata Mahasiswa Prodi D3 Teknik Kimia: 11\n",
            "Sample Size Strata Mahasiswa Prodi D3 Teknologi Pangan: 1\n",
            "Sample Size Strata Mahasiswa Prodi D4 Teknologi Kimia Industri: 15\n",
            "Sample Size Strata Mahasiswa Prodi D4 Teknik Energi: 17\n"
          ]
        }
      ]
    },
    {
      "cell_type": "code",
      "source": [
        "print('Jurusan Teknik Elektro')\n",
        "print('-------------------------------')\n",
        "D3_Teknik_Listrik = 427  #Jumlah populasi strata mahasiswa Prodi D3_Teknik_Listrik\n",
        "result = math.ceil(calculate_sample_mahasiswa(D3_Teknik_Listrik))\n",
        "print(f\"Sample Size Strata Mahasiswa Prodi D3 Teknik Listrik: {result}\")\n",
        "\n",
        "D3_Teknik_Elektronika = 404  #Jumlah populasi strata mahasiswa Prodi D3_Teknik_Elektronika\n",
        "result = math.ceil(calculate_sample_mahasiswa(D3_Teknik_Elektronika))\n",
        "print(f\"Sample Size Strata Mahasiswa Prodi D3 Teknik Elektronika: {result}\")\n",
        "\n",
        "D3_Teknik_Telekomunikasi = 365 #Jumlah populasi strata mahasiswa Prodi D3_Teknik_Telekomunikasi\n",
        "result = math.ceil(calculate_sample_mahasiswa(D3_Teknik_Telekomunikasi))\n",
        "print(f\"Sample Size Strata Mahasiswa Prodi D3 Teknik Telekomunikasi: {result}\")\n",
        "\n",
        "D4_Teknik_Telekomunikasi = 258 #Jumlah populasi strata mahasiswa Prodi D4_Teknik_Telekomunikasi\n",
        "result = math.ceil(calculate_sample_mahasiswa(D4_Teknik_Telekomunikasi))\n",
        "print(f\"Sample Size Strata Mahasiswa Prodi D4 Teknik Telekomunikasi: {result}\")\n",
        "\n",
        "D4_Teknik_Elektro = 277 #Jumlah populasi strata mahasiswa Prodi D4_Teknik_Elektro\n",
        "result = math.ceil(calculate_sample_mahasiswa(D4_Teknik_Elektro))\n",
        "print(f\"Sample Size Strata Mahasiswa Prodi D4 Teknik Elektro: {result}\")"
      ],
      "metadata": {
        "colab": {
          "base_uri": "https://localhost:8080/"
        },
        "id": "eXJv4aUghSDq",
        "outputId": "68e51fd2-3bf6-4f34-bb8b-5d831fbe04cc"
      },
      "execution_count": 56,
      "outputs": [
        {
          "output_type": "stream",
          "name": "stdout",
          "text": [
            "Jurusan Teknik Elektro\n",
            "-------------------------------\n",
            "Sample Size Strata Mahasiswa Prodi D3 Teknik Listrik: 17\n",
            "Sample Size Strata Mahasiswa Prodi D3 Teknik Elektronika: 16\n",
            "Sample Size Strata Mahasiswa Prodi D3 Teknik Telekomunikasi: 14\n",
            "Sample Size Strata Mahasiswa Prodi D4 Teknik Telekomunikasi: 10\n",
            "Sample Size Strata Mahasiswa Prodi D4 Teknik Elektro: 11\n"
          ]
        }
      ]
    },
    {
      "cell_type": "code",
      "source": [
        "print('Jurusan ADM Bisnis')\n",
        "print('-------------------------------')\n",
        "D3_Adm_Bisnis = 676  #Jumlah populasi strata mahasiswa Prodi D3_Adm_Bisnis3\n",
        "result = math.ceil(calculate_sample_mahasiswa(D3_Adm_Bisnis))\n",
        "print(f\"Sample Size Strata Mahasiswa Prodi D3 Adm Bisnis: {result}\")\n",
        "\n",
        "D4_Manajemen_Bisnis = 343  #Jumlah populasi strata mahasiswa Prodi D4_Manajemen_Bisnis\n",
        "result = math.ceil(calculate_sample_mahasiswa(D4_Manajemen_Bisnis))\n",
        "print(f\"Sample Size Strata Mahasiswa Prodi D4 Manajemen Bisnis: {result}\")\n",
        "\n",
        "D4_UPW = 237  #Jumlah populasi strata mahasiswa Prodi D4_UPW\n",
        "result = math.ceil(calculate_sample_mahasiswa(D4_UPW))\n",
        "print(f\"Sample Size Strata Mahasiswa Prodi D4 Usaha Perjalanan Wisata: {result}\")"
      ],
      "metadata": {
        "colab": {
          "base_uri": "https://localhost:8080/"
        },
        "id": "L3suSsKui7no",
        "outputId": "09e3809d-56fc-42e7-afc1-ce6e798c9461"
      },
      "execution_count": 86,
      "outputs": [
        {
          "output_type": "stream",
          "name": "stdout",
          "text": [
            "Jurusan ADM Bisnis\n",
            "-------------------------------\n",
            "Sample Size Strata Mahasiswa Prodi D3 Adm Bisnis: 26\n",
            "Sample Size Strata Mahasiswa Prodi D4 Manajemen Bisnis: 14\n",
            "Sample Size Strata Mahasiswa Prodi D4 Usaha Perjalanan Wisata: 10\n"
          ]
        }
      ]
    },
    {
      "cell_type": "code",
      "source": [
        "print('Jurusan Akuntansi')\n",
        "print('-------------------------------')\n",
        "D3_Akuntansi = 612  #Jumlah populasi strata mahasiswa Prodi D3_Akuntansi\n",
        "result = math.ceil(calculate_sample_mahasiswa(D3_Akuntansi))\n",
        "print(f\"Sample Size Strata Mahasiswa Prodi D3 Akuntansi: {result}\")\n",
        "\n",
        "D4_Akuntansi_Sektor_Publik = 607  #Jumlah populasi strata mahasiswa Prodi D4_Akuntansi_Sektor_Publik\n",
        "result = math.ceil(calculate_sample_mahasiswa(D4_Akuntansi_Sektor_Publik))\n",
        "print(f\"Sample Size Strata Mahasiswa Prodi D4 Akuntansi Sektor Publik: {result}\")"
      ],
      "metadata": {
        "colab": {
          "base_uri": "https://localhost:8080/"
        },
        "id": "oGhXORWij3To",
        "outputId": "397de0be-ce11-4901-a35e-199437a4ca61"
      },
      "execution_count": 87,
      "outputs": [
        {
          "output_type": "stream",
          "name": "stdout",
          "text": [
            "Jurusan Akuntansi\n",
            "-------------------------------\n",
            "Sample Size Strata Mahasiswa Prodi D3 Akuntansi: 24\n",
            "Sample Size Strata Mahasiswa Prodi D4 Akuntansi Sektor Publik: 24\n"
          ]
        }
      ]
    },
    {
      "cell_type": "code",
      "source": [
        "print('Jurusan Teknik Komputer')\n",
        "print('-------------------------------')\n",
        "D3_Teknik_Komputer = 514  #Jumlah populasi strata mahasiswa Prodi D3_Teknik_Komputer\n",
        "result = math.ceil(calculate_sample_mahasiswa(D3_Teknik_Komputer))\n",
        "print(f\"Sample Size Strata Mahasiswa Prodi D3 Teknik Komputer: {result}\")\n",
        "\n",
        "D4_TIMD = 270  #Jumlah populasi strata mahasiswa Prodi D4_TIMD\n",
        "result = math.ceil(calculate_sample_mahasiswa(D4_TIMD))\n",
        "print(f\"Sample Size Strata Mahasiswa Prodi D4 Teknologi Informatika Multimedia Digital: {result}\")"
      ],
      "metadata": {
        "colab": {
          "base_uri": "https://localhost:8080/"
        },
        "id": "wHPMAFPHkN38",
        "outputId": "effaa6a3-a4b0-4280-e4b9-9299356ae960"
      },
      "execution_count": 59,
      "outputs": [
        {
          "output_type": "stream",
          "name": "stdout",
          "text": [
            "Jurusan Teknik Komputer\n",
            "-------------------------------\n",
            "Sample Size Strata Mahasiswa Prodi D3 Teknik Komputer: 20\n",
            "Sample Size Strata Mahasiswa Prodi D4 Teknologi Informatika Multimedia Digital: 11\n"
          ]
        }
      ]
    },
    {
      "cell_type": "code",
      "source": [
        "print('Jurusan Manajemen Informatika')\n",
        "print('-------------------------------')\n",
        "D3_Manajemen_Informatika = 536  #Jumlah populasi strata mahasiswa Prodi D3_Manajemen_Informatika\n",
        "result = math.ceil(calculate_sample_mahasiswa(D3_Manajemen_Informatika))\n",
        "print(f\"Sample Size Strata Mahasiswa Prodi D3 Manajemen Informatika: {result}\")\n",
        "\n",
        "D4_Manajemen_Informatika = 676  #Jumlah populasi strata mahasiswa Prodi D4_Manajemen_Informatika\n",
        "result = math.ceil(calculate_sample_mahasiswa(D4_Manajemen_Informatika))\n",
        "print(f\"Sample Size Strata Mahasiswa Prodi D4 Manajemen Informatika: {result}\")"
      ],
      "metadata": {
        "colab": {
          "base_uri": "https://localhost:8080/"
        },
        "id": "F881osrCll3p",
        "outputId": "b30533e4-81f0-4321-a04e-3ba3fa54f176"
      },
      "execution_count": 60,
      "outputs": [
        {
          "output_type": "stream",
          "name": "stdout",
          "text": [
            "Jurusan Manajemen Informatika\n",
            "-------------------------------\n",
            "Sample Size Strata Mahasiswa Prodi D3 Manajemen Informatika: 21\n",
            "Sample Size Strata Mahasiswa Prodi D4 Manajemen Informatika: 26\n"
          ]
        }
      ]
    },
    {
      "cell_type": "code",
      "source": [
        "print('Jurusan Bahasa Inggris')\n",
        "print('-------------------------------')\n",
        "D3_Bahasa_Inggris = 238  #Jumlah populasi strata mahasiswa Prodi D3_Bahasa_Inggris\n",
        "result = math.ceil(calculate_sample_mahasiswa(D3_Bahasa_Inggris))\n",
        "print(f\"Sample Size Strata Mahasiswa Prodi D3 Bahasa Inggris: {result}\")"
      ],
      "metadata": {
        "colab": {
          "base_uri": "https://localhost:8080/"
        },
        "id": "bvKgCuusjiC6",
        "outputId": "67c13cbc-f8e2-40aa-f942-d6d256bf3b73"
      },
      "execution_count": 61,
      "outputs": [
        {
          "output_type": "stream",
          "name": "stdout",
          "text": [
            "Jurusan Bahasa Inggris\n",
            "-------------------------------\n",
            "Sample Size Strata Mahasiswa Prodi D3 Bahasa Inggris: 10\n"
          ]
        }
      ]
    },
    {
      "cell_type": "markdown",
      "source": [
        "Jumlah sample di Strata Dosen untuk setiap program studi"
      ],
      "metadata": {
        "id": "Jw2TR-QA5sNS"
      }
    },
    {
      "cell_type": "code",
      "source": [
        "def calculate_Dosen(N_h):\n",
        "    N_Population = 458  #Jumlah populasi pada strata mahasiswa\n",
        "    n_dosen = 209  #jumlah sample keseluruhan pada strata mahasiswa\n",
        "\n",
        "    result = N_h / N_Population * n_dosen\n",
        "    return result"
      ],
      "metadata": {
        "id": "lp5bxrIm5q1k"
      },
      "execution_count": 65,
      "outputs": []
    },
    {
      "cell_type": "code",
      "source": [
        "#Hitung sample size untuk strata Dosen di Setiap Prodi Pada Jurusan di Polsri\n",
        "print('Jurusan Teknik Mesin')\n",
        "print('-------------------------------')\n",
        "D3_Teknik_Mesin = 28  #Jumlah populasi strata mahasiswa Prodi D3_Teknik_Mesin\n",
        "result = math.ceil(calculate_Dosen(D3_Teknik_Mesin))\n",
        "print(f\"Sample Size Strata Dosen Prodi D3 Teknik Mesin: {result}\")\n",
        "\n",
        "D4_Teknik_Mesin_produksi = 20 #Jumlah populasi strata mahasiswa Prodi D4_Teknik_Mesin_produksi\n",
        "result = math.ceil(calculate_Dosen(D4_Teknik_Mesin_produksi))\n",
        "print(f\"Sample Size Strata Dosen Prodi D4 Teknik Mesin Produksi dan Perawatan: {result}\")"
      ],
      "metadata": {
        "colab": {
          "base_uri": "https://localhost:8080/"
        },
        "id": "OmzYIck46QIJ",
        "outputId": "3bda8424-e1d4-4237-944c-9f7bf3949c54"
      },
      "execution_count": 66,
      "outputs": [
        {
          "output_type": "stream",
          "name": "stdout",
          "text": [
            "Jurusan Teknik Mesin\n",
            "-------------------------------\n",
            "Sample Size Strata Dosen Prodi D3 Teknik Mesin: 13\n",
            "Sample Size Strata Dosen Prodi D4 Teknik Mesin Produksi dan Perawatan: 10\n"
          ]
        }
      ]
    },
    {
      "cell_type": "code",
      "source": [
        "print('Jurusan Teknik Sipil')\n",
        "print('-------------------------------')\n",
        "D4_Teknologi_Produksi_Tanaman_dan_perkebunan = 7  #Jumlah populasi strata mahasiswa Prodi D4_Teknologi_Produksi_Tanaman_dan_perkebunan\n",
        "result = math.ceil(calculate_Dosen(D4_Teknologi_Produksi_Tanaman_dan_perkebunan))\n",
        "print(f\"Sample Size Strata Dosen Prodi D4 Teknologi Produksi Tanaman dan perkebunan: {result}\")\n",
        "\n",
        "D4_Perancangan_Jalan_Jembatan = 13  #Jumlah populasi strata mahasiswa Prodi D4_Perancangan_Jalan_Jembatan\n",
        "result = math.ceil(calculate_Dosen(D4_Perancangan_Jalan_Jembatan))\n",
        "print(f\"Sample Size Strata Dosen Prodi D4 Perancangan Jalan Jembatan: {result}\")\n",
        "\n",
        "D3_Teknik_Sipil = 50  #Jumlah populasi strata mahasiswa Prodi D3_Teknik_Sipil\n",
        "result = math.ceil(calculate_Dosen(D3_Teknik_Sipil))\n",
        "print(f\"Sample Size Strata Dosen Prodi D3 Teknik Sipil: {result}\")"
      ],
      "metadata": {
        "colab": {
          "base_uri": "https://localhost:8080/"
        },
        "id": "oQVjEoG36965",
        "outputId": "db43a007-dccc-42e6-aa65-0a574f699ec9"
      },
      "execution_count": 67,
      "outputs": [
        {
          "output_type": "stream",
          "name": "stdout",
          "text": [
            "Jurusan Teknik Sipil\n",
            "-------------------------------\n",
            "Sample Size Strata Dosen Prodi D4 Teknologi Produksi Tanaman dan perkebunan: 4\n",
            "Sample Size Strata Dosen Prodi D4 Perancangan Jalan Jembatan: 6\n",
            "Sample Size Strata Dosen Prodi D3 Teknik Sipil: 23\n"
          ]
        }
      ]
    },
    {
      "cell_type": "code",
      "source": [
        "print('Jurusan Teknik Kimia')\n",
        "print('-------------------------------')\n",
        "D3_Teknik_Kimia = 18  #Jumlah populasi strata mahasiswa Prodi D3_Teknik_Kimia\n",
        "result = math.ceil(calculate_Dosen(D3_Teknik_Kimia))\n",
        "print(f\"Sample Size Strata Dosen Prodi D3 Teknik Kimia: {result}\")\n",
        "\n",
        "D3_Teknologi_Pangan = 12  #Jumlah populasi strata mahasiswa Prodi D3_Teknologi_Pangan\n",
        "result = math.ceil(calculate_Dosen(D3_Teknologi_Pangan))\n",
        "print(f\"Sample Size Strata Dosen Prodi D3 Teknologi Pangan: {result}\")\n",
        "\n",
        "D4_Teknologi_Kimia_Industri = 14 #Jumlah populasi strata mahasiswa Prodi D4_Teknologi_Kimia_Industri\n",
        "result = math.ceil(calculate_Dosen(D4_Teknologi_Kimia_Industri))\n",
        "print(f\"Sample Size Strata Dosen Prodi D4 Teknologi Kimia Industri: {result}\")\n",
        "\n",
        "D4_Teknik_Energi = 16 #Jumlah populasi strata mahasiswa Prodi D4_Teknik_Energi\n",
        "result = math.ceil(calculate_Dosen(D4_Teknik_Energi))\n",
        "print(f\"Sample Size Strata Dosen Prodi D4 Teknik Energi: {result}\")"
      ],
      "metadata": {
        "colab": {
          "base_uri": "https://localhost:8080/"
        },
        "id": "3qF1HnoO7SYI",
        "outputId": "16e937ce-b652-47f5-9e32-85371929af06"
      },
      "execution_count": 83,
      "outputs": [
        {
          "output_type": "stream",
          "name": "stdout",
          "text": [
            "Jurusan Teknik Kimia\n",
            "-------------------------------\n",
            "Sample Size Strata Dosen Prodi D3 Teknik Kimia: 9\n",
            "Sample Size Strata Dosen Prodi D3 Teknologi Pangan: 6\n",
            "Sample Size Strata Dosen Prodi D4 Teknologi Kimia Industri: 7\n",
            "Sample Size Strata Dosen Prodi D4 Teknik Energi: 8\n"
          ]
        }
      ]
    },
    {
      "cell_type": "code",
      "source": [
        "print('Jurusan Teknik Elektro')\n",
        "print('-------------------------------')\n",
        "D3_Teknik_Listrik = 25  #Jumlah populasi strata mahasiswa Prodi D3_Teknik_Listrik\n",
        "result = math.ceil(calculate_Dosen(D3_Teknik_Listrik))\n",
        "print(f\"Sample Size Strata Dosen Prodi D3 Teknik Listrik: {result}\")\n",
        "\n",
        "D3_Teknik_Elektronika = 20  #Jumlah populasi strata mahasiswa Prodi D3_Teknik_Elektronika\n",
        "result = math.ceil(calculate_Dosen(D3_Teknik_Elektronika))\n",
        "print(f\"Sample Size Strata Dosen Prodi D3 Teknik Elektronika: {result}\")\n",
        "\n",
        "D3_Teknik_Telekomunikasi = 18 #Jumlah populasi strata mahasiswa Prodi D3_Teknik_Telekomunikasi\n",
        "result = math.ceil(calculate_Dosen(D3_Teknik_Telekomunikasi))\n",
        "print(f\"Sample Size Strata Dosen Prodi D3 Teknik Telekomunikasi: {result}\")\n",
        "\n",
        "D4_Teknik_Telekomunikasi = 8 #Jumlah populasi strata mahasiswa Prodi D4_Teknik_Telekomunikasi\n",
        "result = math.ceil(calculate_Dosen(D4_Teknik_Telekomunikasi))\n",
        "print(f\"Sample Size Strata Dosen Prodi D4 Teknik Telekomunikasi: {result}\")\n",
        "\n",
        "D4_Teknik_Elektro = 9 #Jumlah populasi strata mahasiswa Prodi D4_Teknik_Elektro\n",
        "result = math.ceil(calculate_Dosen(D4_Teknik_Elektro))\n",
        "print(f\"Sample Size Strata Dosen Prodi D4 Teknik Elektro: {result}\")"
      ],
      "metadata": {
        "colab": {
          "base_uri": "https://localhost:8080/"
        },
        "id": "l0HilktN8xH7",
        "outputId": "7a840c35-248e-4a43-da08-2fbb294a1ea5"
      },
      "execution_count": 78,
      "outputs": [
        {
          "output_type": "stream",
          "name": "stdout",
          "text": [
            "Jurusan Teknik Elektro\n",
            "-------------------------------\n",
            "Sample Size Strata Dosen Prodi D3 Teknik Listrik: 12\n",
            "Sample Size Strata Dosen Prodi D3 Teknik Elektronika: 10\n",
            "Sample Size Strata Dosen Prodi D3 Teknik Telekomunikasi: 9\n",
            "Sample Size Strata Dosen Prodi D4 Teknik Telekomunikasi: 4\n",
            "Sample Size Strata Dosen Prodi D4 Teknik Elektro: 5\n"
          ]
        }
      ]
    },
    {
      "cell_type": "code",
      "source": [
        "print('Jurusan ADM Bisnis')\n",
        "print('-------------------------------')\n",
        "D3_Adm_Bisnis = 29  #Jumlah populasi strata mahasiswa Prodi D3_Adm_Bisnis\n",
        "result = math.ceil(calculate_Dosen(D3_Adm_Bisnis))\n",
        "print(f\"Sample Size Strata Dosen Prodi D3 Adm Bisnis: {result}\")\n",
        "\n",
        "D4_Manajemen_Bisnis = 10  #Jumlah populasi strata mahasiswa Prodi D4_Manajemen_Bisnis\n",
        "result = math.ceil(calculate_Dosen(D4_Manajemen_Bisnis))\n",
        "print(f\"Sample Size Strata Dosen Prodi D4 Manajemen Bisnis: {result}\")\n",
        "\n",
        "D4_UPW = 8  #Jumlah populasi strata mahasiswa Prodi D4_UPW\n",
        "result = math.ceil(calculate_Dosen(D4_UPW))\n",
        "print(f\"Sample Size Strata Dosen Prodi D4 Usaha Perjalanan Wisata: {result}\")"
      ],
      "metadata": {
        "colab": {
          "base_uri": "https://localhost:8080/"
        },
        "id": "gfkSDHXQ-ry6",
        "outputId": "dfe69068-0974-43e0-a77d-e9de6cea8240"
      },
      "execution_count": 88,
      "outputs": [
        {
          "output_type": "stream",
          "name": "stdout",
          "text": [
            "Jurusan ADM Bisnis\n",
            "-------------------------------\n",
            "Sample Size Strata Dosen Prodi D3 Adm Bisnis: 14\n",
            "Sample Size Strata Dosen Prodi D4 Manajemen Bisnis: 5\n",
            "Sample Size Strata Dosen Prodi D4 Usaha Perjalanan Wisata: 4\n"
          ]
        }
      ]
    },
    {
      "cell_type": "code",
      "source": [
        "print('Jurusan Akuntansi')\n",
        "print('-------------------------------')\n",
        "D3_Akuntansi = 21  #Jumlah populasi strata mahasiswa Prodi D3_Akuntansi\n",
        "result = math.ceil(calculate_Dosen(D3_Akuntansi))\n",
        "print(f\"Sample Size Strata Dosen Prodi D3 Akuntansi: {result}\")\n",
        "\n",
        "D4_Akuntansi_Sektor_Publik = 16  #Jumlah populasi strata mahasiswa Prodi D4_Akuntansi_Sektor_Publik\n",
        "result = math.ceil(calculate_Dosen(D4_Akuntansi_Sektor_Publik))\n",
        "print(f\"Sample Size Strata Dosen Prodi D4 Akuntansi Sektor Publik: {result}\")"
      ],
      "metadata": {
        "colab": {
          "base_uri": "https://localhost:8080/"
        },
        "id": "i5PAWGKF_Nm-",
        "outputId": "2acd3da8-169c-4d43-9ea6-e34e4e090250"
      },
      "execution_count": 89,
      "outputs": [
        {
          "output_type": "stream",
          "name": "stdout",
          "text": [
            "Jurusan Akuntansi\n",
            "-------------------------------\n",
            "Sample Size Strata Dosen Prodi D3 Akuntansi: 10\n",
            "Sample Size Strata Dosen Prodi D4 Akuntansi Sektor Publik: 8\n"
          ]
        }
      ]
    },
    {
      "cell_type": "code",
      "source": [
        "print('Jurusan Teknik Komputer')\n",
        "print('-------------------------------')\n",
        "D3_Teknik_Komputer = 18  #Jumlah populasi strata mahasiswa Prodi D3_Teknik_Komputer\n",
        "result = math.ceil(calculate_Dosen(D3_Teknik_Komputer))\n",
        "print(f\"Sample Size Strata Dosen Prodi D3 Teknik Komputer: {result}\")\n",
        "\n",
        "D4_TIMD = 12  #Jumlah populasi strata mahasiswa Prodi D4_TIMD\n",
        "result = math.ceil(calculate_Dosen(D4_TIMD))\n",
        "print(f\"Sample Size Strata Dosen Prodi D4 Teknologi Informatika Multimedia Digital: {result}\")"
      ],
      "metadata": {
        "colab": {
          "base_uri": "https://localhost:8080/"
        },
        "id": "_zJXLkwD_pZ9",
        "outputId": "76a4ab83-4206-477c-da80-c94e6c6581d7"
      },
      "execution_count": 82,
      "outputs": [
        {
          "output_type": "stream",
          "name": "stdout",
          "text": [
            "Jurusan Teknik Komputer\n",
            "-------------------------------\n",
            "Sample Size Strata Dosen Prodi D3 Teknik Komputer: 9\n",
            "Sample Size Strata Dosen Prodi D4 Teknologi Informatika Multimedia Digital: 6\n"
          ]
        }
      ]
    },
    {
      "cell_type": "code",
      "source": [
        "print('Jurusan Manajemen Informatika')\n",
        "print('-------------------------------')\n",
        "D3_Manajemen_Informatika = 26  #Jumlah populasi strata mahasiswa Prodi D3_Manajemen_Informatika\n",
        "result = math.ceil(calculate_Dosen(D3_Manajemen_Informatika))\n",
        "print(f\"Sample Size Strata Dosen Prodi D3 Manajemen Informatika: {result}\")\n",
        "\n",
        "D4_Manajemen_Informatika = 22  #Jumlah populasi strata mahasiswa Prodi D4_Manajemen_Informatika\n",
        "result = math.ceil(calculate_Dosen(D4_Manajemen_Informatika))\n",
        "print(f\"Sample Size Strata Dosen Prodi D4 Manajemen Informatika: {result}\")"
      ],
      "metadata": {
        "colab": {
          "base_uri": "https://localhost:8080/"
        },
        "id": "pSJlImuSAJOM",
        "outputId": "2cb9b7e2-643d-4605-a46b-ed1fbaff7225"
      },
      "execution_count": 84,
      "outputs": [
        {
          "output_type": "stream",
          "name": "stdout",
          "text": [
            "Jurusan Manajemen Informatika\n",
            "-------------------------------\n",
            "Sample Size Strata Mahasiswa Prodi D3 Manajemen Informatika: 12\n",
            "Sample Size Strata Mahasiswa Prodi D4 Manajemen Informatika: 11\n"
          ]
        }
      ]
    },
    {
      "cell_type": "code",
      "source": [
        "print('Jurusan Bahasa Inggris')\n",
        "print('-------------------------------')\n",
        "D3_Bahasa_Inggris = 38  #Jumlah populasi strata mahasiswa Prodi D3_Bahasa_Inggris\n",
        "result = math.ceil(calculate_Dosen(D3_Bahasa_Inggris))\n",
        "print(f\"Sample Size Strata Dosen Prodi D3 Bahasa Inggris: {result}\")"
      ],
      "metadata": {
        "colab": {
          "base_uri": "https://localhost:8080/"
        },
        "id": "QM7fqlhlASUA",
        "outputId": "e1c66b43-e8b6-41d7-e096-a035b76a7734"
      },
      "execution_count": 90,
      "outputs": [
        {
          "output_type": "stream",
          "name": "stdout",
          "text": [
            "Jurusan Bahasa Inggris\n",
            "-------------------------------\n",
            "Sample Size Strata Dosen Prodi D3 Bahasa Inggris: 18\n"
          ]
        }
      ]
    },
    {
      "cell_type": "markdown",
      "source": [
        " Rata - rata (mean)\n",
        " $ \\bar{x} = \\frac{\\sum{x_i}}{n} $"
      ],
      "metadata": {
        "id": "yFwrCfDs2t9e"
      }
    },
    {
      "cell_type": "code",
      "source": [
        "def hitung_rata_rata(data):\n",
        "    if len(data) == 0:\n",
        "        return 0  # Menghindari pembagian oleh nol jika data kosong\n",
        "    else:\n",
        "        total = sum(data)\n",
        "        rata_rata = total / len(data)\n",
        "        return rata_rata\n",
        "\n",
        "# Contoh penggunaan fungsi\n",
        "data = [10, 20, 30, 40, 50]\n",
        "rata_rata = hitung_rata_rata(data)\n",
        "print(\"Rata-rata:\", rata_rata)"
      ],
      "metadata": {
        "colab": {
          "base_uri": "https://localhost:8080/"
        },
        "id": "dN3EZ7WjUvBI",
        "outputId": "304ca5dc-5ec0-42e0-c0b4-b57ba7427cfd"
      },
      "execution_count": 91,
      "outputs": [
        {
          "output_type": "stream",
          "name": "stdout",
          "text": [
            "Rata-rata: 30.0\n"
          ]
        }
      ]
    },
    {
      "cell_type": "markdown",
      "source": [
        "Interval kepercayaan untuk rata - rata\n",
        "$ \\bar{x} \\pm Z \\cdot \\frac{\\sigma}{\\sqrt{n}} $"
      ],
      "metadata": {
        "id": "ij5ttYTD9z2X"
      }
    },
    {
      "cell_type": "code",
      "source": [
        "from scipy import stats\n",
        "\n",
        "def hitung_confidence_interval(data, confidence_level):\n",
        "    n = len(data)\n",
        "    mean = sum(data) / n\n",
        "    std_dev = stats.tstd(data)  # Standar deviasi sampel\n",
        "\n",
        "    alpha = 1 - confidence_level\n",
        "    z_score = stats.norm.ppf(1 - alpha / 2)\n",
        "\n",
        "    margin_of_error = z_score * (std_dev / (n ** 0.5))\n",
        "    lower_bound = mean - margin_of_error\n",
        "    upper_bound = mean + margin_of_error\n",
        "\n",
        "    return (lower_bound, upper_bound)\n",
        "\n",
        "# Contoh penggunaan fungsi\n",
        "data = [32, 45, 28, 51, 39, 47, 32, 43, 39, 31]\n",
        "confidence_level = 0.95  # Tingkat kepercayaan 95%\n",
        "\n",
        "interval = hitung_confidence_interval(data, confidence_level)\n",
        "print(f\"Interval Kepercayaan ({confidence_level * 100}%): {interval}\")"
      ],
      "metadata": {
        "colab": {
          "base_uri": "https://localhost:8080/"
        },
        "id": "9Wm6rH8jVD76",
        "outputId": "e6751eec-8061-49e0-a99d-7f55d56fbf52"
      },
      "execution_count": 92,
      "outputs": [
        {
          "output_type": "stream",
          "name": "stdout",
          "text": [
            "Interval Kepercayaan (95.0%): (33.889762275800265, 43.51023772419974)\n"
          ]
        }
      ]
    },
    {
      "cell_type": "markdown",
      "source": [
        " Proporsi\n",
        " $ \\hat{p} = \\frac{x}{n} $"
      ],
      "metadata": {
        "id": "1OykKMwH-ohD"
      }
    },
    {
      "cell_type": "code",
      "source": [
        "def hitung_proporsi(x, n):\n",
        "    proporsi = x / n\n",
        "    return proporsi\n",
        "\n",
        "# Contoh penggunaan fungsi\n",
        "x = 25  # Jumlah elemen yang memenuhi kondisi tertentu\n",
        "n = 100  # Jumlah total elemen dalam sampel\n",
        "\n",
        "hasil_proporsi = hitung_proporsi(x, n)\n",
        "print(f\"Proporsi: {hasil_proporsi:.2%}\")"
      ],
      "metadata": {
        "colab": {
          "base_uri": "https://localhost:8080/"
        },
        "id": "2Z2sAS9hVLl-",
        "outputId": "24560a50-f1b3-46a0-9d84-3ebf8c824627"
      },
      "execution_count": 94,
      "outputs": [
        {
          "output_type": "stream",
          "name": "stdout",
          "text": [
            "Proporsi: 25.00%\n"
          ]
        }
      ]
    },
    {
      "cell_type": "markdown",
      "source": [
        "Margin of Error (MOE) untuk Proporsi:\n",
        "\n",
        "Formula: $ MOE = Z \\cdot \\sqrt{\\frac{\\hat{p} \\cdot (1-\\hat{p})}{n}} $"
      ],
      "metadata": {
        "id": "_a-NeOM8-xnu"
      }
    },
    {
      "cell_type": "code",
      "source": [
        "def hitung_moe(z, proporsi, n):\n",
        "    moe = z * math.sqrt((proporsi * (1 - proporsi)) / n)\n",
        "    return moe\n",
        "\n",
        "# Contoh penggunaan fungsi\n",
        "z = 1.96  # Nilai Z-score untuk tingkat kepercayaan 95% (bisa disesuaikan)\n",
        "proporsi = 0.4  # Proporsi yang ingin dihitung MOE-nya\n",
        "n = 1000  # Jumlah sampel\n",
        "\n",
        "moe_result = hitung_moe(z, proporsi, n)\n",
        "print(f\"Margin of Error (MOE): {moe_result:.5f}\")"
      ],
      "metadata": {
        "colab": {
          "base_uri": "https://localhost:8080/"
        },
        "id": "JkIOQJTKVzZu",
        "outputId": "b758a9d7-e3ec-49eb-8044-0cb78178c7b3"
      },
      "execution_count": 96,
      "outputs": [
        {
          "output_type": "stream",
          "name": "stdout",
          "text": [
            "Margin of Error (MOE): 0.03036\n"
          ]
        }
      ]
    },
    {
      "cell_type": "markdown",
      "source": [],
      "metadata": {
        "id": "caVthBxq-2Xr"
      }
    },
    {
      "cell_type": "markdown",
      "source": [],
      "metadata": {
        "id": "-uuMHxiPmhLD"
      }
    },
    {
      "cell_type": "markdown",
      "source": [],
      "metadata": {
        "id": "kAfz-zBamhyz"
      }
    }
  ]
}